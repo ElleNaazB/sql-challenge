{
 "cells": [
  {
   "cell_type": "markdown",
   "metadata": {},
   "source": [
    "\n",
    "#  Relationship Diagram\n"
   ]
  },
  {
   "cell_type": "markdown",
   "metadata": {},
   "source": [
    "Employee\n",
    "-\n",
    "- emp_no PK int\n",
    "- emp_title_id FK \n",
    "- birth_date date\n",
    "- first_name string\n",
    "- last_name string\n",
    "- sex Varchar\n",
    "- hire_date date\n",
    "\n",
    "Title\n",
    "-\n",
    "- title_id PK string\n",
    "- title string\n",
    "\n",
    "Department\n",
    "-\n",
    "- dept_no PK string\n",
    "- dept_name string\n",
    "\n",
    "Department_Employee\n",
    "-\n",
    "- emp_no PK FK >- Employee.emp_no\n",
    "- dept_no PK FK >- Department.dept_no\n",
    "\n",
    "Department_Manager\n",
    "-\n",
    "- dept_no PK FK >- Department.dept_no\n",
    "- emp_no PK FK >- Employee.emp_no\n",
    "\n",
    "Salary\n",
    "-\n",
    "- emp_no PK FK >- Employee.emp_no\n",
    "- salary int"
   ]
  }
 ],
 "metadata": {
  "language_info": {
   "name": "python"
  }
 },
 "nbformat": 4,
 "nbformat_minor": 2
}
